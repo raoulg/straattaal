{
 "cells": [
  {
   "cell_type": "code",
   "execution_count": 1,
   "metadata": {},
   "outputs": [],
   "source": [
    "from pathlib import Path\n",
    "from slanggen import datatools\n",
    "from slanggen import models\n",
    "import torch"
   ]
  },
  {
   "cell_type": "markdown",
   "metadata": {},
   "source": [
    "I scraped the \"Amsterdamse straattaal woordenboek\" , see [link](https://www.mijnwoordenboek.nl/dialect/Amsterdamse%20straattaal)"
   ]
  },
  {
   "cell_type": "code",
   "execution_count": 5,
   "metadata": {},
   "outputs": [
    {
     "name": "stderr",
     "output_type": "stream",
     "text": [
      "2024-10-10 16:28:16,315 | main - INFO - Loading processed words from ../assets/straattaal.txt\n"
     ]
    },
    {
     "data": {
      "text/plain": [
       "(['<s>a mooi?</s>',\n",
       "  '<s>fawaka?</s>',\n",
       "  '<s>faka?</s>',\n",
       "  '<s>inshallah</s>',\n",
       "  '<s>fok op</s>',\n",
       "  '<s>mahlish</s>',\n",
       "  '<s>fakka</s>',\n",
       "  '<s>het is planga weer</s>',\n",
       "  '<s>kifesh</s>',\n",
       "  '<s>faka</s>'],\n",
       " 453)"
      ]
     },
     "execution_count": 5,
     "metadata": {},
     "output_type": "execute_result"
    }
   ],
   "source": [
    "processed_words = datatools.load_data(Path(\"../assets/straattaal.txt\"))\n",
    "processed_words[:10], len(processed_words)"
   ]
  },
  {
   "cell_type": "markdown",
   "metadata": {},
   "source": [
    "We have 453 words in total. I added a start `<s>` and stop `</s>` tag.\n",
    "We will use a Byte Pair Encoding (BPE) algorithm to learn the subword units from the corpus."
   ]
  },
  {
   "cell_type": "code",
   "execution_count": 8,
   "metadata": {},
   "outputs": [
    {
     "name": "stdout",
     "output_type": "stream",
     "text": [
      "\n",
      "\n",
      "\n"
     ]
    },
    {
     "data": {
      "text/plain": [
       "[\"'\", 's', '<unk>', 'x', '/', 'Ġ', 'je', 'e', 'wa', 'w']"
      ]
     },
     "execution_count": 8,
     "metadata": {},
     "output_type": "execute_result"
    }
   ],
   "source": [
    "tokenizer = models.buildBPE(corpus=processed_words, vocab_size=100)\n",
    "list(tokenizer.get_vocab())[:10]"
   ]
  },
  {
   "cell_type": "markdown",
   "metadata": {},
   "source": [
    "We can now encode a word and see which tokens are created:"
   ]
  },
  {
   "cell_type": "code",
   "execution_count": 9,
   "metadata": {},
   "outputs": [
    {
     "data": {
      "text/plain": [
       "['wa', 'g', 'g', 'ie']"
      ]
     },
     "execution_count": 9,
     "metadata": {},
     "output_type": "execute_result"
    }
   ],
   "source": [
    "enc = tokenizer.encode(\"waggie\")\n",
    "enc.tokens"
   ]
  },
  {
   "cell_type": "markdown",
   "metadata": {},
   "source": [
    "And reconstruct the word"
   ]
  },
  {
   "cell_type": "code",
   "execution_count": 10,
   "metadata": {},
   "outputs": [
    {
     "data": {
      "text/plain": [
       "'waggie'"
      ]
     },
     "execution_count": 10,
     "metadata": {},
     "output_type": "execute_result"
    }
   ],
   "source": [
    "tokenizer.decode(enc.ids)"
   ]
  },
  {
   "cell_type": "markdown",
   "metadata": {},
   "source": [
    "Let's process the sequences. We will:\n",
    "- transform words into subtokens, and then into arbitrary integers\n",
    "- add zeros to make all sequences the same length (padding)"
   ]
  },
  {
   "cell_type": "code",
   "execution_count": 11,
   "metadata": {},
   "outputs": [
    {
     "data": {
      "text/plain": [
       "tensor([[ 1, 16, 44,  ...,  0,  0,  0],\n",
       "        [ 1, 21, 16,  ...,  0,  0,  0],\n",
       "        [ 1, 21, 51,  ...,  0,  0,  0],\n",
       "        ...,\n",
       "        [ 1, 27, 36,  ...,  0,  0,  0],\n",
       "        [ 1, 23, 20,  ...,  0,  0,  0],\n",
       "        [ 1, 37, 16,  ...,  0,  0,  0]])"
      ]
     },
     "execution_count": 11,
     "metadata": {},
     "output_type": "execute_result"
    }
   ],
   "source": [
    "padded_sequences = datatools.preprocess(processed_words, tokenizer)\n",
    "padded_sequences"
   ]
  },
  {
   "cell_type": "markdown",
   "metadata": {},
   "source": [
    "Every word now is a list of integers. We will shift the sequence one position, such that the target (to predict) is the next token in the sequence."
   ]
  },
  {
   "cell_type": "code",
   "execution_count": 12,
   "metadata": {},
   "outputs": [
    {
     "data": {
      "text/plain": [
       "ShiftedDataset torch.Size([453, 22])"
      ]
     },
     "execution_count": 12,
     "metadata": {},
     "output_type": "execute_result"
    }
   ],
   "source": [
    "dataset = datatools.ShiftedDataset(padded_sequences)\n",
    "dataset"
   ]
  },
  {
   "cell_type": "code",
   "execution_count": 14,
   "metadata": {},
   "outputs": [
    {
     "name": "stdout",
     "output_type": "stream",
     "text": [
      "input: tensor([ 1, 16, 44, 28, 30, 30, 24, 15,  2,  0,  0,  0,  0,  0,  0,  0,  0,  0,\n",
      "         0,  0,  0,  0])\n",
      "output: tensor([16, 44, 28, 30, 30, 24, 15,  2,  0,  0,  0,  0,  0,  0,  0,  0,  0,  0,\n",
      "         0,  0,  0,  0])\n"
     ]
    }
   ],
   "source": [
    "x, y = dataset[0]\n",
    "print(f\"input: {x}\")\n",
    "print(f\"output: {y}\")"
   ]
  },
  {
   "cell_type": "markdown",
   "metadata": {},
   "source": [
    "we will use a Dataloader. This will batch the sequences and shuffle the dataset."
   ]
  },
  {
   "cell_type": "code",
   "execution_count": 15,
   "metadata": {},
   "outputs": [
    {
     "data": {
      "text/plain": [
       "(torch.Size([16, 22]), torch.Size([16, 22]))"
      ]
     },
     "execution_count": 15,
     "metadata": {},
     "output_type": "execute_result"
    }
   ],
   "source": [
    "# import torch dataloader\n",
    "from torch.utils.data import DataLoader\n",
    "\n",
    "loader = DataLoader(dataset, batch_size=16, shuffle=True)\n",
    "x, y = next(iter(loader))\n",
    "x.shape, y.shape"
   ]
  },
  {
   "cell_type": "markdown",
   "metadata": {},
   "source": [
    "Lets look at the full dataset:"
   ]
  },
  {
   "cell_type": "code",
   "execution_count": 17,
   "metadata": {},
   "outputs": [
    {
     "name": "stdout",
     "output_type": "stream",
     "text": [
      "torch.Size([16, 22]) torch.Size([16, 22])\n",
      "torch.Size([16, 22]) torch.Size([16, 22])\n",
      "torch.Size([16, 22]) torch.Size([16, 22])\n",
      "torch.Size([16, 22]) torch.Size([16, 22])\n",
      "torch.Size([16, 22]) torch.Size([16, 22])\n",
      "torch.Size([16, 22]) torch.Size([16, 22])\n",
      "torch.Size([16, 22]) torch.Size([16, 22])\n",
      "torch.Size([16, 22]) torch.Size([16, 22])\n",
      "torch.Size([16, 22]) torch.Size([16, 22])\n",
      "torch.Size([16, 22]) torch.Size([16, 22])\n",
      "torch.Size([16, 22]) torch.Size([16, 22])\n",
      "torch.Size([16, 22]) torch.Size([16, 22])\n",
      "torch.Size([16, 22]) torch.Size([16, 22])\n",
      "torch.Size([16, 22]) torch.Size([16, 22])\n",
      "torch.Size([16, 22]) torch.Size([16, 22])\n",
      "torch.Size([16, 22]) torch.Size([16, 22])\n",
      "torch.Size([16, 22]) torch.Size([16, 22])\n",
      "torch.Size([16, 22]) torch.Size([16, 22])\n",
      "torch.Size([16, 22]) torch.Size([16, 22])\n",
      "torch.Size([16, 22]) torch.Size([16, 22])\n",
      "torch.Size([16, 22]) torch.Size([16, 22])\n",
      "torch.Size([16, 22]) torch.Size([16, 22])\n",
      "torch.Size([16, 22]) torch.Size([16, 22])\n",
      "torch.Size([16, 22]) torch.Size([16, 22])\n",
      "torch.Size([16, 22]) torch.Size([16, 22])\n",
      "torch.Size([16, 22]) torch.Size([16, 22])\n",
      "torch.Size([16, 22]) torch.Size([16, 22])\n",
      "torch.Size([16, 22]) torch.Size([16, 22])\n",
      "torch.Size([5, 22]) torch.Size([5, 22])\n"
     ]
    }
   ],
   "source": [
    "for x, y in loader:\n",
    "    print(x.shape, y.shape)"
   ]
  },
  {
   "cell_type": "markdown",
   "metadata": {},
   "source": [
    "And we will use the vocabulary size to use as an output size for the model.\n",
    "The model now takes:\n",
    "- as input: a sequence of integers\n",
    "- as output: for every possible BPE token, the probability that it is the next token in the sequence."
   ]
  },
  {
   "cell_type": "code",
   "execution_count": 19,
   "metadata": {},
   "outputs": [
    {
     "data": {
      "text/plain": [
       "100"
      ]
     },
     "execution_count": 19,
     "metadata": {},
     "output_type": "execute_result"
    }
   ],
   "source": [
    "# Define the vocab size based on the tokenizer\n",
    "vocab_size = tokenizer.get_vocab_size()\n",
    "vocab_size"
   ]
  },
  {
   "cell_type": "markdown",
   "metadata": {},
   "source": [
    "We can now set up all the ingredients:\n",
    "- the model uses 64 dimensions to represent the language\n",
    "- we can calculate the loss (the difference between the actual next token and the predicted next token)\n",
    "- the optimizer will tell the model in which direction to adjust the weights"
   ]
  },
  {
   "cell_type": "code",
   "execution_count": 21,
   "metadata": {},
   "outputs": [],
   "source": [
    "from torch.optim.lr_scheduler import ReduceLROnPlateau, StepLR\n",
    "\n",
    "from torch import nn, optim\n",
    "# Hyperparameters\n",
    "config = {\n",
    "    \"vocab_size\": vocab_size,\n",
    "    \"embedding_dim\": 64,\n",
    "    \"hidden_dim\": 64,\n",
    "    \"num_layers\": 2,\n",
    "    \"output_dim\": vocab_size,\n",
    "}\n",
    "\n",
    "model = models.SlangRNN(config)\n",
    "loss_fn = nn.CrossEntropyLoss()\n",
    "optimizer = optim.Adam(model.parameters(), lr=0.1)\n",
    "scheduler = ReduceLROnPlateau(optimizer, mode='min', factor=0.1, patience=50, min_lr=1e-4)"
   ]
  },
  {
   "cell_type": "markdown",
   "metadata": {},
   "source": [
    "Let's train for 800 epochs. This means we will present the full dataset of 453 words for 800 times to the model."
   ]
  },
  {
   "cell_type": "code",
   "execution_count": 25,
   "metadata": {},
   "outputs": [
    {
     "name": "stderr",
     "output_type": "stream",
     "text": [
      "\u001b[32m2024-10-10 16:39:27.699\u001b[0m | \u001b[1mINFO    \u001b[0m | \u001b[36m__main__\u001b[0m:\u001b[36m<module>\u001b[0m:\u001b[36m27\u001b[0m - \u001b[1mEpoch [10/800], Loss: 24.9769\u001b[0m\n",
      "\u001b[32m2024-10-10 16:39:27.699\u001b[0m | \u001b[1mINFO    \u001b[0m | \u001b[36m__main__\u001b[0m:\u001b[36m<module>\u001b[0m:\u001b[36m30\u001b[0m - \u001b[1mCurrent learning rate: [0.1]\u001b[0m\n",
      "\u001b[32m2024-10-10 16:39:28.430\u001b[0m | \u001b[1mINFO    \u001b[0m | \u001b[36m__main__\u001b[0m:\u001b[36m<module>\u001b[0m:\u001b[36m27\u001b[0m - \u001b[1mEpoch [20/800], Loss: 22.4989\u001b[0m\n",
      "\u001b[32m2024-10-10 16:39:29.157\u001b[0m | \u001b[1mINFO    \u001b[0m | \u001b[36m__main__\u001b[0m:\u001b[36m<module>\u001b[0m:\u001b[36m27\u001b[0m - \u001b[1mEpoch [30/800], Loss: 21.2633\u001b[0m\n",
      "\u001b[32m2024-10-10 16:39:29.887\u001b[0m | \u001b[1mINFO    \u001b[0m | \u001b[36m__main__\u001b[0m:\u001b[36m<module>\u001b[0m:\u001b[36m27\u001b[0m - \u001b[1mEpoch [40/800], Loss: 20.2699\u001b[0m\n",
      "\u001b[32m2024-10-10 16:39:30.601\u001b[0m | \u001b[1mINFO    \u001b[0m | \u001b[36m__main__\u001b[0m:\u001b[36m<module>\u001b[0m:\u001b[36m27\u001b[0m - \u001b[1mEpoch [50/800], Loss: 19.6305\u001b[0m\n",
      "\u001b[32m2024-10-10 16:39:31.331\u001b[0m | \u001b[1mINFO    \u001b[0m | \u001b[36m__main__\u001b[0m:\u001b[36m<module>\u001b[0m:\u001b[36m27\u001b[0m - \u001b[1mEpoch [60/800], Loss: 19.2329\u001b[0m\n",
      "\u001b[32m2024-10-10 16:39:32.053\u001b[0m | \u001b[1mINFO    \u001b[0m | \u001b[36m__main__\u001b[0m:\u001b[36m<module>\u001b[0m:\u001b[36m27\u001b[0m - \u001b[1mEpoch [70/800], Loss: 18.9792\u001b[0m\n",
      "\u001b[32m2024-10-10 16:39:32.768\u001b[0m | \u001b[1mINFO    \u001b[0m | \u001b[36m__main__\u001b[0m:\u001b[36m<module>\u001b[0m:\u001b[36m27\u001b[0m - \u001b[1mEpoch [80/800], Loss: 19.1678\u001b[0m\n",
      "\u001b[32m2024-10-10 16:39:33.488\u001b[0m | \u001b[1mINFO    \u001b[0m | \u001b[36m__main__\u001b[0m:\u001b[36m<module>\u001b[0m:\u001b[36m27\u001b[0m - \u001b[1mEpoch [90/800], Loss: 18.5646\u001b[0m\n",
      "\u001b[32m2024-10-10 16:39:34.249\u001b[0m | \u001b[1mINFO    \u001b[0m | \u001b[36m__main__\u001b[0m:\u001b[36m<module>\u001b[0m:\u001b[36m27\u001b[0m - \u001b[1mEpoch [100/800], Loss: 18.5987\u001b[0m\n",
      "\u001b[32m2024-10-10 16:39:35.030\u001b[0m | \u001b[1mINFO    \u001b[0m | \u001b[36m__main__\u001b[0m:\u001b[36m<module>\u001b[0m:\u001b[36m27\u001b[0m - \u001b[1mEpoch [110/800], Loss: 18.2792\u001b[0m\n",
      "\u001b[32m2024-10-10 16:39:35.887\u001b[0m | \u001b[1mINFO    \u001b[0m | \u001b[36m__main__\u001b[0m:\u001b[36m<module>\u001b[0m:\u001b[36m27\u001b[0m - \u001b[1mEpoch [120/800], Loss: 18.3215\u001b[0m\n",
      "\u001b[32m2024-10-10 16:39:36.741\u001b[0m | \u001b[1mINFO    \u001b[0m | \u001b[36m__main__\u001b[0m:\u001b[36m<module>\u001b[0m:\u001b[36m27\u001b[0m - \u001b[1mEpoch [130/800], Loss: 18.4002\u001b[0m\n",
      "\u001b[32m2024-10-10 16:39:37.478\u001b[0m | \u001b[1mINFO    \u001b[0m | \u001b[36m__main__\u001b[0m:\u001b[36m<module>\u001b[0m:\u001b[36m27\u001b[0m - \u001b[1mEpoch [140/800], Loss: 17.7065\u001b[0m\n",
      "\u001b[32m2024-10-10 16:39:38.195\u001b[0m | \u001b[1mINFO    \u001b[0m | \u001b[36m__main__\u001b[0m:\u001b[36m<module>\u001b[0m:\u001b[36m27\u001b[0m - \u001b[1mEpoch [150/800], Loss: 17.8049\u001b[0m\n",
      "\u001b[32m2024-10-10 16:39:38.927\u001b[0m | \u001b[1mINFO    \u001b[0m | \u001b[36m__main__\u001b[0m:\u001b[36m<module>\u001b[0m:\u001b[36m27\u001b[0m - \u001b[1mEpoch [160/800], Loss: 18.1591\u001b[0m\n",
      "\u001b[32m2024-10-10 16:39:39.660\u001b[0m | \u001b[1mINFO    \u001b[0m | \u001b[36m__main__\u001b[0m:\u001b[36m<module>\u001b[0m:\u001b[36m27\u001b[0m - \u001b[1mEpoch [170/800], Loss: 17.6284\u001b[0m\n",
      "\u001b[32m2024-10-10 16:39:40.362\u001b[0m | \u001b[1mINFO    \u001b[0m | \u001b[36m__main__\u001b[0m:\u001b[36m<module>\u001b[0m:\u001b[36m27\u001b[0m - \u001b[1mEpoch [180/800], Loss: 17.7434\u001b[0m\n",
      "\u001b[32m2024-10-10 16:39:41.100\u001b[0m | \u001b[1mINFO    \u001b[0m | \u001b[36m__main__\u001b[0m:\u001b[36m<module>\u001b[0m:\u001b[36m27\u001b[0m - \u001b[1mEpoch [190/800], Loss: 18.2609\u001b[0m\n",
      "\u001b[32m2024-10-10 16:39:41.868\u001b[0m | \u001b[1mINFO    \u001b[0m | \u001b[36m__main__\u001b[0m:\u001b[36m<module>\u001b[0m:\u001b[36m27\u001b[0m - \u001b[1mEpoch [200/800], Loss: 17.5699\u001b[0m\n",
      "\u001b[32m2024-10-10 16:39:42.581\u001b[0m | \u001b[1mINFO    \u001b[0m | \u001b[36m__main__\u001b[0m:\u001b[36m<module>\u001b[0m:\u001b[36m27\u001b[0m - \u001b[1mEpoch [210/800], Loss: 17.5704\u001b[0m\n",
      "\u001b[32m2024-10-10 16:39:43.304\u001b[0m | \u001b[1mINFO    \u001b[0m | \u001b[36m__main__\u001b[0m:\u001b[36m<module>\u001b[0m:\u001b[36m27\u001b[0m - \u001b[1mEpoch [220/800], Loss: 17.4739\u001b[0m\n",
      "\u001b[32m2024-10-10 16:39:44.032\u001b[0m | \u001b[1mINFO    \u001b[0m | \u001b[36m__main__\u001b[0m:\u001b[36m<module>\u001b[0m:\u001b[36m27\u001b[0m - \u001b[1mEpoch [230/800], Loss: 17.2862\u001b[0m\n",
      "\u001b[32m2024-10-10 16:39:44.793\u001b[0m | \u001b[1mINFO    \u001b[0m | \u001b[36m__main__\u001b[0m:\u001b[36m<module>\u001b[0m:\u001b[36m27\u001b[0m - \u001b[1mEpoch [240/800], Loss: 17.2446\u001b[0m\n",
      "\u001b[32m2024-10-10 16:39:45.549\u001b[0m | \u001b[1mINFO    \u001b[0m | \u001b[36m__main__\u001b[0m:\u001b[36m<module>\u001b[0m:\u001b[36m27\u001b[0m - \u001b[1mEpoch [250/800], Loss: 17.2570\u001b[0m\n",
      "\u001b[32m2024-10-10 16:39:46.291\u001b[0m | \u001b[1mINFO    \u001b[0m | \u001b[36m__main__\u001b[0m:\u001b[36m<module>\u001b[0m:\u001b[36m27\u001b[0m - \u001b[1mEpoch [260/800], Loss: 17.6478\u001b[0m\n",
      "\u001b[32m2024-10-10 16:39:47.028\u001b[0m | \u001b[1mINFO    \u001b[0m | \u001b[36m__main__\u001b[0m:\u001b[36m<module>\u001b[0m:\u001b[36m27\u001b[0m - \u001b[1mEpoch [270/800], Loss: 17.7527\u001b[0m\n",
      "\u001b[32m2024-10-10 16:39:47.770\u001b[0m | \u001b[1mINFO    \u001b[0m | \u001b[36m__main__\u001b[0m:\u001b[36m<module>\u001b[0m:\u001b[36m27\u001b[0m - \u001b[1mEpoch [280/800], Loss: 17.6512\u001b[0m\n",
      "\u001b[32m2024-10-10 16:39:48.482\u001b[0m | \u001b[1mINFO    \u001b[0m | \u001b[36m__main__\u001b[0m:\u001b[36m<module>\u001b[0m:\u001b[36m27\u001b[0m - \u001b[1mEpoch [290/800], Loss: 17.4349\u001b[0m\n",
      "\u001b[32m2024-10-10 16:39:49.234\u001b[0m | \u001b[1mINFO    \u001b[0m | \u001b[36m__main__\u001b[0m:\u001b[36m<module>\u001b[0m:\u001b[36m27\u001b[0m - \u001b[1mEpoch [300/800], Loss: 17.4953\u001b[0m\n",
      "\u001b[32m2024-10-10 16:39:50.146\u001b[0m | \u001b[1mINFO    \u001b[0m | \u001b[36m__main__\u001b[0m:\u001b[36m<module>\u001b[0m:\u001b[36m27\u001b[0m - \u001b[1mEpoch [310/800], Loss: 17.0097\u001b[0m\n",
      "\u001b[32m2024-10-10 16:39:50.146\u001b[0m | \u001b[1mINFO    \u001b[0m | \u001b[36m__main__\u001b[0m:\u001b[36m<module>\u001b[0m:\u001b[36m30\u001b[0m - \u001b[1mCurrent learning rate: [0.010000000000000002]\u001b[0m\n",
      "\u001b[32m2024-10-10 16:39:51.002\u001b[0m | \u001b[1mINFO    \u001b[0m | \u001b[36m__main__\u001b[0m:\u001b[36m<module>\u001b[0m:\u001b[36m27\u001b[0m - \u001b[1mEpoch [320/800], Loss: 16.8559\u001b[0m\n",
      "\u001b[32m2024-10-10 16:39:51.856\u001b[0m | \u001b[1mINFO    \u001b[0m | \u001b[36m__main__\u001b[0m:\u001b[36m<module>\u001b[0m:\u001b[36m27\u001b[0m - \u001b[1mEpoch [330/800], Loss: 16.7446\u001b[0m\n",
      "\u001b[32m2024-10-10 16:39:52.613\u001b[0m | \u001b[1mINFO    \u001b[0m | \u001b[36m__main__\u001b[0m:\u001b[36m<module>\u001b[0m:\u001b[36m27\u001b[0m - \u001b[1mEpoch [340/800], Loss: 16.8688\u001b[0m\n",
      "\u001b[32m2024-10-10 16:39:53.341\u001b[0m | \u001b[1mINFO    \u001b[0m | \u001b[36m__main__\u001b[0m:\u001b[36m<module>\u001b[0m:\u001b[36m27\u001b[0m - \u001b[1mEpoch [350/800], Loss: 16.5493\u001b[0m\n",
      "\u001b[32m2024-10-10 16:39:54.083\u001b[0m | \u001b[1mINFO    \u001b[0m | \u001b[36m__main__\u001b[0m:\u001b[36m<module>\u001b[0m:\u001b[36m27\u001b[0m - \u001b[1mEpoch [360/800], Loss: 16.5337\u001b[0m\n",
      "\u001b[32m2024-10-10 16:39:54.820\u001b[0m | \u001b[1mINFO    \u001b[0m | \u001b[36m__main__\u001b[0m:\u001b[36m<module>\u001b[0m:\u001b[36m27\u001b[0m - \u001b[1mEpoch [370/800], Loss: 16.5090\u001b[0m\n",
      "\u001b[32m2024-10-10 16:39:55.548\u001b[0m | \u001b[1mINFO    \u001b[0m | \u001b[36m__main__\u001b[0m:\u001b[36m<module>\u001b[0m:\u001b[36m27\u001b[0m - \u001b[1mEpoch [380/800], Loss: 16.4938\u001b[0m\n",
      "\u001b[32m2024-10-10 16:39:56.274\u001b[0m | \u001b[1mINFO    \u001b[0m | \u001b[36m__main__\u001b[0m:\u001b[36m<module>\u001b[0m:\u001b[36m27\u001b[0m - \u001b[1mEpoch [390/800], Loss: 16.3801\u001b[0m\n",
      "\u001b[32m2024-10-10 16:39:57.002\u001b[0m | \u001b[1mINFO    \u001b[0m | \u001b[36m__main__\u001b[0m:\u001b[36m<module>\u001b[0m:\u001b[36m27\u001b[0m - \u001b[1mEpoch [400/800], Loss: 16.3880\u001b[0m\n",
      "\u001b[32m2024-10-10 16:39:57.737\u001b[0m | \u001b[1mINFO    \u001b[0m | \u001b[36m__main__\u001b[0m:\u001b[36m<module>\u001b[0m:\u001b[36m27\u001b[0m - \u001b[1mEpoch [410/800], Loss: 16.4230\u001b[0m\n",
      "\u001b[32m2024-10-10 16:39:58.487\u001b[0m | \u001b[1mINFO    \u001b[0m | \u001b[36m__main__\u001b[0m:\u001b[36m<module>\u001b[0m:\u001b[36m27\u001b[0m - \u001b[1mEpoch [420/800], Loss: 16.4113\u001b[0m\n",
      "\u001b[32m2024-10-10 16:39:59.308\u001b[0m | \u001b[1mINFO    \u001b[0m | \u001b[36m__main__\u001b[0m:\u001b[36m<module>\u001b[0m:\u001b[36m27\u001b[0m - \u001b[1mEpoch [430/800], Loss: 16.2451\u001b[0m\n",
      "\u001b[32m2024-10-10 16:40:00.046\u001b[0m | \u001b[1mINFO    \u001b[0m | \u001b[36m__main__\u001b[0m:\u001b[36m<module>\u001b[0m:\u001b[36m27\u001b[0m - \u001b[1mEpoch [440/800], Loss: 16.2085\u001b[0m\n",
      "\u001b[32m2024-10-10 16:40:00.771\u001b[0m | \u001b[1mINFO    \u001b[0m | \u001b[36m__main__\u001b[0m:\u001b[36m<module>\u001b[0m:\u001b[36m27\u001b[0m - \u001b[1mEpoch [450/800], Loss: 16.0923\u001b[0m\n",
      "\u001b[32m2024-10-10 16:40:01.601\u001b[0m | \u001b[1mINFO    \u001b[0m | \u001b[36m__main__\u001b[0m:\u001b[36m<module>\u001b[0m:\u001b[36m27\u001b[0m - \u001b[1mEpoch [460/800], Loss: 16.2115\u001b[0m\n",
      "\u001b[32m2024-10-10 16:40:02.340\u001b[0m | \u001b[1mINFO    \u001b[0m | \u001b[36m__main__\u001b[0m:\u001b[36m<module>\u001b[0m:\u001b[36m27\u001b[0m - \u001b[1mEpoch [470/800], Loss: 16.1052\u001b[0m\n",
      "\u001b[32m2024-10-10 16:40:03.069\u001b[0m | \u001b[1mINFO    \u001b[0m | \u001b[36m__main__\u001b[0m:\u001b[36m<module>\u001b[0m:\u001b[36m27\u001b[0m - \u001b[1mEpoch [480/800], Loss: 16.0859\u001b[0m\n",
      "\u001b[32m2024-10-10 16:40:03.779\u001b[0m | \u001b[1mINFO    \u001b[0m | \u001b[36m__main__\u001b[0m:\u001b[36m<module>\u001b[0m:\u001b[36m27\u001b[0m - \u001b[1mEpoch [490/800], Loss: 16.0068\u001b[0m\n",
      "\u001b[32m2024-10-10 16:40:04.595\u001b[0m | \u001b[1mINFO    \u001b[0m | \u001b[36m__main__\u001b[0m:\u001b[36m<module>\u001b[0m:\u001b[36m27\u001b[0m - \u001b[1mEpoch [500/800], Loss: 15.9500\u001b[0m\n",
      "\u001b[32m2024-10-10 16:40:05.430\u001b[0m | \u001b[1mINFO    \u001b[0m | \u001b[36m__main__\u001b[0m:\u001b[36m<module>\u001b[0m:\u001b[36m27\u001b[0m - \u001b[1mEpoch [510/800], Loss: 15.9181\u001b[0m\n",
      "\u001b[32m2024-10-10 16:40:06.193\u001b[0m | \u001b[1mINFO    \u001b[0m | \u001b[36m__main__\u001b[0m:\u001b[36m<module>\u001b[0m:\u001b[36m27\u001b[0m - \u001b[1mEpoch [520/800], Loss: 15.8726\u001b[0m\n",
      "\u001b[32m2024-10-10 16:40:07.046\u001b[0m | \u001b[1mINFO    \u001b[0m | \u001b[36m__main__\u001b[0m:\u001b[36m<module>\u001b[0m:\u001b[36m27\u001b[0m - \u001b[1mEpoch [530/800], Loss: 15.8413\u001b[0m\n",
      "\u001b[32m2024-10-10 16:40:07.803\u001b[0m | \u001b[1mINFO    \u001b[0m | \u001b[36m__main__\u001b[0m:\u001b[36m<module>\u001b[0m:\u001b[36m27\u001b[0m - \u001b[1mEpoch [540/800], Loss: 15.8826\u001b[0m\n",
      "\u001b[32m2024-10-10 16:40:08.646\u001b[0m | \u001b[1mINFO    \u001b[0m | \u001b[36m__main__\u001b[0m:\u001b[36m<module>\u001b[0m:\u001b[36m27\u001b[0m - \u001b[1mEpoch [550/800], Loss: 15.7618\u001b[0m\n",
      "\u001b[32m2024-10-10 16:40:09.424\u001b[0m | \u001b[1mINFO    \u001b[0m | \u001b[36m__main__\u001b[0m:\u001b[36m<module>\u001b[0m:\u001b[36m27\u001b[0m - \u001b[1mEpoch [560/800], Loss: 15.7357\u001b[0m\n",
      "\u001b[32m2024-10-10 16:40:10.198\u001b[0m | \u001b[1mINFO    \u001b[0m | \u001b[36m__main__\u001b[0m:\u001b[36m<module>\u001b[0m:\u001b[36m27\u001b[0m - \u001b[1mEpoch [570/800], Loss: 15.6475\u001b[0m\n",
      "\u001b[32m2024-10-10 16:40:11.003\u001b[0m | \u001b[1mINFO    \u001b[0m | \u001b[36m__main__\u001b[0m:\u001b[36m<module>\u001b[0m:\u001b[36m27\u001b[0m - \u001b[1mEpoch [580/800], Loss: 15.6208\u001b[0m\n",
      "\u001b[32m2024-10-10 16:40:11.845\u001b[0m | \u001b[1mINFO    \u001b[0m | \u001b[36m__main__\u001b[0m:\u001b[36m<module>\u001b[0m:\u001b[36m27\u001b[0m - \u001b[1mEpoch [590/800], Loss: 15.5430\u001b[0m\n",
      "\u001b[32m2024-10-10 16:40:12.692\u001b[0m | \u001b[1mINFO    \u001b[0m | \u001b[36m__main__\u001b[0m:\u001b[36m<module>\u001b[0m:\u001b[36m27\u001b[0m - \u001b[1mEpoch [600/800], Loss: 15.7001\u001b[0m\n",
      "\u001b[32m2024-10-10 16:40:13.457\u001b[0m | \u001b[1mINFO    \u001b[0m | \u001b[36m__main__\u001b[0m:\u001b[36m<module>\u001b[0m:\u001b[36m27\u001b[0m - \u001b[1mEpoch [610/800], Loss: 15.5348\u001b[0m\n",
      "\u001b[32m2024-10-10 16:40:14.180\u001b[0m | \u001b[1mINFO    \u001b[0m | \u001b[36m__main__\u001b[0m:\u001b[36m<module>\u001b[0m:\u001b[36m27\u001b[0m - \u001b[1mEpoch [620/800], Loss: 15.4567\u001b[0m\n",
      "\u001b[32m2024-10-10 16:40:14.910\u001b[0m | \u001b[1mINFO    \u001b[0m | \u001b[36m__main__\u001b[0m:\u001b[36m<module>\u001b[0m:\u001b[36m27\u001b[0m - \u001b[1mEpoch [630/800], Loss: 15.3730\u001b[0m\n",
      "\u001b[32m2024-10-10 16:40:15.657\u001b[0m | \u001b[1mINFO    \u001b[0m | \u001b[36m__main__\u001b[0m:\u001b[36m<module>\u001b[0m:\u001b[36m27\u001b[0m - \u001b[1mEpoch [640/800], Loss: 15.3190\u001b[0m\n",
      "\u001b[32m2024-10-10 16:40:16.434\u001b[0m | \u001b[1mINFO    \u001b[0m | \u001b[36m__main__\u001b[0m:\u001b[36m<module>\u001b[0m:\u001b[36m27\u001b[0m - \u001b[1mEpoch [650/800], Loss: 15.3830\u001b[0m\n",
      "\u001b[32m2024-10-10 16:40:17.224\u001b[0m | \u001b[1mINFO    \u001b[0m | \u001b[36m__main__\u001b[0m:\u001b[36m<module>\u001b[0m:\u001b[36m27\u001b[0m - \u001b[1mEpoch [660/800], Loss: 15.2010\u001b[0m\n",
      "\u001b[32m2024-10-10 16:40:17.996\u001b[0m | \u001b[1mINFO    \u001b[0m | \u001b[36m__main__\u001b[0m:\u001b[36m<module>\u001b[0m:\u001b[36m27\u001b[0m - \u001b[1mEpoch [670/800], Loss: 15.2111\u001b[0m\n",
      "\u001b[32m2024-10-10 16:40:18.728\u001b[0m | \u001b[1mINFO    \u001b[0m | \u001b[36m__main__\u001b[0m:\u001b[36m<module>\u001b[0m:\u001b[36m27\u001b[0m - \u001b[1mEpoch [680/800], Loss: 15.1863\u001b[0m\n",
      "\u001b[32m2024-10-10 16:40:19.507\u001b[0m | \u001b[1mINFO    \u001b[0m | \u001b[36m__main__\u001b[0m:\u001b[36m<module>\u001b[0m:\u001b[36m27\u001b[0m - \u001b[1mEpoch [690/800], Loss: 15.2490\u001b[0m\n",
      "\u001b[32m2024-10-10 16:40:20.313\u001b[0m | \u001b[1mINFO    \u001b[0m | \u001b[36m__main__\u001b[0m:\u001b[36m<module>\u001b[0m:\u001b[36m27\u001b[0m - \u001b[1mEpoch [700/800], Loss: 15.1352\u001b[0m\n",
      "\u001b[32m2024-10-10 16:40:21.284\u001b[0m | \u001b[1mINFO    \u001b[0m | \u001b[36m__main__\u001b[0m:\u001b[36m<module>\u001b[0m:\u001b[36m27\u001b[0m - \u001b[1mEpoch [710/800], Loss: 15.1788\u001b[0m\n",
      "\u001b[32m2024-10-10 16:40:22.176\u001b[0m | \u001b[1mINFO    \u001b[0m | \u001b[36m__main__\u001b[0m:\u001b[36m<module>\u001b[0m:\u001b[36m27\u001b[0m - \u001b[1mEpoch [720/800], Loss: 15.1444\u001b[0m\n",
      "\u001b[32m2024-10-10 16:40:23.034\u001b[0m | \u001b[1mINFO    \u001b[0m | \u001b[36m__main__\u001b[0m:\u001b[36m<module>\u001b[0m:\u001b[36m27\u001b[0m - \u001b[1mEpoch [730/800], Loss: 15.2143\u001b[0m\n",
      "\u001b[32m2024-10-10 16:40:23.785\u001b[0m | \u001b[1mINFO    \u001b[0m | \u001b[36m__main__\u001b[0m:\u001b[36m<module>\u001b[0m:\u001b[36m27\u001b[0m - \u001b[1mEpoch [740/800], Loss: 14.9030\u001b[0m\n",
      "\u001b[32m2024-10-10 16:40:24.524\u001b[0m | \u001b[1mINFO    \u001b[0m | \u001b[36m__main__\u001b[0m:\u001b[36m<module>\u001b[0m:\u001b[36m27\u001b[0m - \u001b[1mEpoch [750/800], Loss: 14.9972\u001b[0m\n",
      "\u001b[32m2024-10-10 16:40:25.255\u001b[0m | \u001b[1mINFO    \u001b[0m | \u001b[36m__main__\u001b[0m:\u001b[36m<module>\u001b[0m:\u001b[36m27\u001b[0m - \u001b[1mEpoch [760/800], Loss: 14.9426\u001b[0m\n",
      "\u001b[32m2024-10-10 16:40:26.036\u001b[0m | \u001b[1mINFO    \u001b[0m | \u001b[36m__main__\u001b[0m:\u001b[36m<module>\u001b[0m:\u001b[36m27\u001b[0m - \u001b[1mEpoch [770/800], Loss: 15.1980\u001b[0m\n",
      "\u001b[32m2024-10-10 16:40:26.767\u001b[0m | \u001b[1mINFO    \u001b[0m | \u001b[36m__main__\u001b[0m:\u001b[36m<module>\u001b[0m:\u001b[36m27\u001b[0m - \u001b[1mEpoch [780/800], Loss: 15.0484\u001b[0m\n",
      "\u001b[32m2024-10-10 16:40:27.510\u001b[0m | \u001b[1mINFO    \u001b[0m | \u001b[36m__main__\u001b[0m:\u001b[36m<module>\u001b[0m:\u001b[36m27\u001b[0m - \u001b[1mEpoch [790/800], Loss: 14.9688\u001b[0m\n",
      "\u001b[32m2024-10-10 16:40:28.268\u001b[0m | \u001b[1mINFO    \u001b[0m | \u001b[36m__main__\u001b[0m:\u001b[36m<module>\u001b[0m:\u001b[36m27\u001b[0m - \u001b[1mEpoch [800/800], Loss: 14.9513\u001b[0m\n"
     ]
    }
   ],
   "source": [
    "from loguru import logger\n",
    "import torch\n",
    "\n",
    "epochs = 800\n",
    "history = []\n",
    "last_lr = 0\n",
    "\n",
    "for epoch in range(epochs):\n",
    "    loss = 0\n",
    "\n",
    "    for x, y in loader:\n",
    "        optimizer.zero_grad()\n",
    "        hidden = model.init_hidden(x)\n",
    "        # input_seq, target_seq = dataset[i]\n",
    "\n",
    "        output, hidden = model(x, hidden)\n",
    "\n",
    "        loss += loss_fn(output.view(-1, vocab_size), y.view(-1))\n",
    "\n",
    "    loss.backward()\n",
    "    optimizer.step()\n",
    "    scheduler.step(loss)\n",
    "    history.append(loss.item())\n",
    "    curr_lr = scheduler.get_last_lr()\n",
    "\n",
    "    if (epoch+1) % 10 == 0:\n",
    "        logger.info(f'Epoch [{epoch+1}/{epochs}], Loss: {loss.item():.4f}')\n",
    "        if last_lr != curr_lr:\n",
    "            last_lr = curr_lr\n",
    "            logger.info(f\"Current learning rate: {curr_lr}\")\n"
   ]
  },
  {
   "cell_type": "code",
   "execution_count": 29,
   "metadata": {},
   "outputs": [
    {
     "data": {
      "text/plain": [
       "(0.0, 40.0)"
      ]
     },
     "execution_count": 29,
     "metadata": {},
     "output_type": "execute_result"
    },
    {
     "data": {
      "image/png": "[encoded data removed]",
      "text/plain": [
       "<Figure size 640x480 with 1 Axes>"
      ]
     },
     "metadata": {},
     "output_type": "display_data"
    }
   ],
   "source": [
    "import matplotlib.pyplot as plt\n",
    "plt.plot(history)\n",
    "plt.ylabel('Loss')\n",
    "plt.xlabel('Epochs')\n",
    "plt.ylim(0, 40)"
   ]
  },
  {
   "cell_type": "markdown",
   "metadata": {},
   "source": [
    "We can now save, and load, the trained model for use."
   ]
  },
  {
   "cell_type": "code",
   "execution_count": 21,
   "metadata": {},
   "outputs": [],
   "source": [
    "torch.save(model.state_dict(), \"../artefacts/model.pth\")"
   ]
  },
  {
   "cell_type": "code",
   "execution_count": 22,
   "metadata": {},
   "outputs": [
    {
     "data": {
      "text/plain": [
       "<All keys matched successfully>"
      ]
     },
     "execution_count": 22,
     "metadata": {},
     "output_type": "execute_result"
    }
   ],
   "source": [
    "model = models.SlangRNN(config)\n",
    "model.load_state_dict(torch.load(\"../artefacts/model.pth\"))"
   ]
  },
  {
   "cell_type": "markdown",
   "metadata": {},
   "source": [
    "We can now give a starting letter, eg 'a', and give the model a sequence of start_token and start_letter.\n",
    "The model will now start to predict next tokens, until it predicts the stop_token."
   ]
  },
  {
   "cell_type": "code",
   "execution_count": 39,
   "metadata": {},
   "outputs": [],
   "source": [
    "start_letter = 'a'\n",
    "max_length = 20\n",
    "temperature = 1.0\n",
    "start_token_idx = tokenizer.encode(\"<s>\").ids[0]\n",
    "start_letter_idx = tokenizer.encode(start_letter).ids[0]\n",
    "input_seq = torch.tensor([[start_token_idx, start_letter_idx]], dtype=torch.long)\n",
    "\n",
    "generated_word = [start_letter_idx]\n",
    "hidden = model.init_hidden(input_seq)\n",
    "for _ in range(max_length - 1):\n",
    "    with torch.no_grad():\n",
    "        output, hidden = model(input_seq, hidden)\n",
    "    output = output.squeeze(0)\n",
    "    output = output[-1, :].view(-1).div(temperature).exp()\n",
    "    next_token = torch.multinomial(output, 1).item()\n",
    "    if next_token == tokenizer.token_to_id(\"<pad>\"):\n",
    "        break\n",
    "    generated_word.append(next_token)\n",
    "    input_seq = torch.tensor([generated_word], dtype=torch.long)"
   ]
  },
  {
   "cell_type": "markdown",
   "metadata": {},
   "source": [
    "This generates tokens"
   ]
  },
  {
   "cell_type": "code",
   "execution_count": 40,
   "metadata": {},
   "outputs": [
    {
     "data": {
      "text/plain": [
       "[16, 24, 22, 23, 35, 46, 2]"
      ]
     },
     "execution_count": 40,
     "metadata": {},
     "output_type": "execute_result"
    }
   ],
   "source": [
    "generated_word"
   ]
  },
  {
   "cell_type": "markdown",
   "metadata": {},
   "source": [
    "Which we can decode into a word"
   ]
  },
  {
   "cell_type": "code",
   "execution_count": 41,
   "metadata": {},
   "outputs": [
    {
     "data": {
      "text/plain": [
       "'aighten'"
      ]
     },
     "execution_count": 41,
     "metadata": {},
     "output_type": "execute_result"
    }
   ],
   "source": [
    "tokenizer.decode(generated_word)"
   ]
  },
  {
   "cell_type": "markdown",
   "metadata": {},
   "source": [
    "We can loop this process to generate multiple words."
   ]
  },
  {
   "cell_type": "code",
   "execution_count": 44,
   "metadata": {},
   "outputs": [
    {
     "data": {
      "text/plain": [
       "['x',\n",
       " 'krum',\n",
       " 'uu',\n",
       " 'we7nes',\n",
       " 'zai',\n",
       " \"o'toe\",\n",
       " 'don',\n",
       " 'ey',\n",
       " 'ulangen-ven',\n",
       " 'ummaal boers']"
      ]
     },
     "execution_count": 44,
     "metadata": {},
     "output_type": "execute_result"
    }
   ],
   "source": [
    "models.sample_n(processed_words, n=10, model=model, tokenizer=tokenizer, max_length=20, temperature=1.0)"
   ]
  },
  {
   "cell_type": "markdown",
   "metadata": {},
   "source": [
    "And save everything for later use."
   ]
  },
  {
   "cell_type": "code",
   "execution_count": 29,
   "metadata": {},
   "outputs": [],
   "source": [
    "tokenizer.save(\"../artefacts/tokenizer.json\")"
   ]
  },
  {
   "cell_type": "code",
   "execution_count": 30,
   "metadata": {},
   "outputs": [],
   "source": [
    "torch.save(model, \"../artefacts/model.pth\")"
   ]
  },
  {
   "cell_type": "code",
   "execution_count": null,
   "metadata": {},
   "outputs": [],
   "source": []
  }
 ],
 "metadata": {
  "kernelspec": {
   "display_name": ".venv",
   "language": "python",
   "name": "python3"
  },
  "language_info": {
   "codemirror_mode": {
    "name": "ipython",
    "version": 3
   },
   "file_extension": ".py",
   "mimetype": "text/x-python",
   "name": "python",
   "nbconvert_exporter": "python",
   "pygments_lexer": "ipython3",
   "version": "3.10.13"
  }
 },
 "nbformat": 4,
 "nbformat_minor": 2
}
